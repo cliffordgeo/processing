#test
import obspy
st = obspy.read()
