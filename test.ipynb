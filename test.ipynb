# -*- coding: utf-8 -*-
"""


@author: TomClifford

This file is an initial routine for preprocessing seismic data.
It reads a waveform, filters, removes response, demeans and detrends, finds SNR, FAS, and plots.

"""

#%% import libraries
import obspy
st = obspy.read()
